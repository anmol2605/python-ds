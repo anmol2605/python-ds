{
 "cells": [
  {
   "cell_type": "markdown",
   "metadata": {},
   "source": [
    "Operator Overloading\n"
   ]
  },
  {
   "cell_type": "code",
   "execution_count": null,
   "metadata": {},
   "outputs": [],
   "source": []
  },
  {
   "cell_type": "code",
   "execution_count": 1,
   "metadata": {},
   "outputs": [],
   "source": [
    "class Area:\n",
    "    def __init__(self,l,b):\n",
    "        self.l =l\n",
    "        self.b = b\n",
    "        self.val = l*b\n",
    "\n",
    "#add operator overloading\n",
    "    def __add__(self, other):\n",
    "        if isinstance(other, Area):\n",
    "            return self.val +other.val\n",
    "        elif isinstance(other, (int, float)):\n",
    "            return self.val + other\n",
    "        else:\n",
    "        # raise TypeError(f\"Invalid type\")\n",
    "            return None"
   ]
  },
  {
   "cell_type": "code",
   "execution_count": 2,
   "metadata": {},
   "outputs": [
    {
     "name": "stdout",
     "output_type": "stream",
     "text": [
      "200\n",
      "600\n"
     ]
    }
   ],
   "source": [
    "a = Area(10, 20)\n",
    "b = Area(20, 30)\n",
    "print(a.val)\n",
    "print(b.val)"
   ]
  },
  {
   "cell_type": "code",
   "execution_count": 3,
   "metadata": {},
   "outputs": [
    {
     "data": {
      "text/plain": [
       "400"
      ]
     },
     "execution_count": 3,
     "metadata": {},
     "output_type": "execute_result"
    }
   ],
   "source": [
    "a + 200"
   ]
  },
  {
   "cell_type": "code",
   "execution_count": 4,
   "metadata": {},
   "outputs": [],
   "source": [
    "class Student:\n",
    "    def __init__(self,name, Klass, marks = []):\n",
    "        self.name = name\n",
    "        self.klass = Klass\n",
    "        self.marks = marks\n",
    "    def result(self):\n",
    "        return sum(self.marks)/len(self.marks)\n",
    "    def __lt__(self, other):\n",
    "        if isinstance(other, Student):\n",
    "            return self.result() < other.result()\n",
    "    def __str__(self):\n",
    "        return f\"{self.name} from class {self.Klass}\"\n",
    "    def __repr__(self):\n",
    "        return self.name"
   ]
  },
  {
   "cell_type": "code",
   "execution_count": 5,
   "metadata": {},
   "outputs": [],
   "source": [
    "s1 = Student(\"Ravi\",3,marks = [95,63,41])\n",
    "s2 = Student('Vinay', 5, marks = [95,73,71])\n",
    "s3 = Student('karan', 5 , marks = [75,83,81])\n"
   ]
  },
  {
   "cell_type": "code",
   "execution_count": 6,
   "metadata": {},
   "outputs": [
    {
     "data": {
      "text/plain": [
       "[Ravi, Vinay, karan]"
      ]
     },
     "execution_count": 6,
     "metadata": {},
     "output_type": "execute_result"
    }
   ],
   "source": [
    "[s1,s2,s3]"
   ]
  },
  {
   "cell_type": "code",
   "execution_count": 7,
   "metadata": {},
   "outputs": [],
   "source": [
    "from dataclasses import dataclass\n"
   ]
  },
  {
   "cell_type": "code",
   "execution_count": 8,
   "metadata": {},
   "outputs": [],
   "source": [
    "@dataclass\n",
    "class Contact:\n",
    "    name:str\n",
    "    phone:str\n",
    "    email:str\n"
   ]
  },
  {
   "cell_type": "code",
   "execution_count": 9,
   "metadata": {},
   "outputs": [
    {
     "data": {
      "text/plain": [
       "Contact(name='Ravi', phone='1234567890', email='ravi@gmail.com')"
      ]
     },
     "execution_count": 9,
     "metadata": {},
     "output_type": "execute_result"
    }
   ],
   "source": [
    "c = Contact(\"Ravi\", \"1234567890\", \"ravi@gmail.com\")\n",
    "c "
   ]
  },
  {
   "cell_type": "code",
   "execution_count": 10,
   "metadata": {},
   "outputs": [],
   "source": [
    "@dataclass\n",
    "class Studentv2:\n",
    "    name: str\n",
    "    klass: int\n",
    "    marks: list\n",
    "    def result(self):\n",
    "        return sum(self.marks)/len(self.marks)\n"
   ]
  },
  {
   "cell_type": "code",
   "execution_count": 11,
   "metadata": {},
   "outputs": [
    {
     "name": "stdout",
     "output_type": "stream",
     "text": [
      "Studentv2(name='Alex', klass=10, marks=[23, 25, 23, 15, 23])\n",
      "21.8\n"
     ]
    }
   ],
   "source": [
    "s = Studentv2('Alex', 10, [23,25,23,15,23])\n",
    "s2 = Studentv2('Alexa',10,[53,55,53,55,52])\n",
    "print(s)\n",
    "print(s.result())"
   ]
  }
 ],
 "metadata": {
  "kernelspec": {
   "display_name": "base",
   "language": "python",
   "name": "python3"
  },
  "language_info": {
   "codemirror_mode": {
    "name": "ipython",
    "version": 3
   },
   "file_extension": ".py",
   "mimetype": "text/x-python",
   "name": "python",
   "nbconvert_exporter": "python",
   "pygments_lexer": "ipython3",
   "version": "3.10.10"
  },
  "orig_nbformat": 4
 },
 "nbformat": 4,
 "nbformat_minor": 2
}
