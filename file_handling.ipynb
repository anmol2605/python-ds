{
 "cells": [
  {
   "cell_type": "markdown",
   "metadata": {},
   "source": [
    "# file handling\n",
    "- open\n",
    "- read\n",
    "- write\n",
    "- append\n",
    "- close❌ \n",
    "     - with keyword is better"
   ]
  },
  {
   "cell_type": "code",
   "execution_count": 1,
   "metadata": {},
   "outputs": [
    {
     "data": {
      "text/plain": [
       "<_io.TextIOWrapper name='t1.py' mode='r' encoding='UTF-8'>"
      ]
     },
     "execution_count": 1,
     "metadata": {},
     "output_type": "execute_result"
    }
   ],
   "source": [
    "open('t1.py')"
   ]
  },
  {
   "cell_type": "code",
   "execution_count": 5,
   "metadata": {},
   "outputs": [
    {
     "data": {
      "text/plain": [
       "\"from turtle import*\\nspeed('fastest')\\ncolors = ['red','purple','blue','green']\\npensize(4)\\nfor i in range(100):\\n    pencolor (colors[i%4])\\n    fd(i*2) #fd(i*2)lt(60),fd(i*5)lt(90)\\n    lt(60)\\n    circle(i*2, 90)\\n\\nmainloop()\""
      ]
     },
     "execution_count": 5,
     "metadata": {},
     "output_type": "execute_result"
    }
   ],
   "source": [
    "open('t3.py').read()"
   ]
  },
  {
   "cell_type": "code",
   "execution_count": 10,
   "metadata": {},
   "outputs": [
    {
     "name": "stdout",
     "output_type": "stream",
     "text": [
      "from turtle import *\n",
      "speed('slowest')\n",
      "pencolor('green')\n",
      "\n",
      "fd(100)\n",
      "rt(120)\n",
      "fd(100)\n",
      "rt(120)\n",
      "fd(100)\n",
      "rt(120)\n",
      "\n",
      "\n",
      "mainloop()\n"
     ]
    }
   ],
   "source": [
    "#reading a file using with statement\n",
    "with open('t1.py') as file:\n",
    "    content = file.read()\n",
    "print(content)"
   ]
  },
  {
   "cell_type": "code",
   "execution_count": 11,
   "metadata": {},
   "outputs": [
    {
     "name": "stdout",
     "output_type": "stream",
     "text": [
      "from turtle import *\n",
      "speed('slowest')\n",
      "pencolor('green')\n",
      "\n",
      "fd(100)\n",
      "rt(120)\n",
      "fd(100)\n",
      "rt(120)\n",
      "fd(100)\n",
      "rt(120)\n",
      "\n",
      "\n",
      "mainloop()\n"
     ]
    }
   ],
   "source": [
    "#reading a file using with statement\n",
    "with open('t1.py',encoding ='utf-8', errors = 'ignore') as file:\n",
    "    content = file.read()\n",
    "print(content)"
   ]
  },
  {
   "cell_type": "code",
   "execution_count": 14,
   "metadata": {},
   "outputs": [
    {
     "name": "stdout",
     "output_type": "stream",
     "text": [
      "783370 weird characters found\n"
     ]
    }
   ],
   "source": [
    "path = r'C:\\Users\\HP\\OneDrive\\Pictures\\srijan 2.png'\n",
    "# open file in read binary mode\n",
    "with open(path, 'rb')as file:\n",
    "    bytes = file.read()\n",
    "print(len(bytes), 'weird characters found')"
   ]
  },
  {
   "cell_type": "code",
   "execution_count": 15,
   "metadata": {},
   "outputs": [
    {
     "name": "stdout",
     "output_type": "stream",
     "text": [
      "✅ File created Successfully\n"
     ]
    }
   ],
   "source": [
    "#creating a text file\n",
    "data = 'Life Before Death\\nStrength Before Weakness\\nJourney Before Destination'\n",
    "# 'w' is the write mode\n",
    "with open('oaths.txt', 'w') as f:\n",
    "    f.write(data)\n",
    "    print('✅ File created Successfully')"
   ]
  },
  {
   "cell_type": "code",
   "execution_count": 20,
   "metadata": {},
   "outputs": [
    {
     "name": "stdout",
     "output_type": "stream",
     "text": [
      "✅Kahani Khatam\n"
     ]
    }
   ],
   "source": [
    "with open('kahani.txt', 'w') as file:\n",
    "    while True:\n",
    "        line = input('>>>')\n",
    "        if not line:\n",
    "            break\n",
    "        file.write(line+ '\\n')\n",
    "    print('✅Kahani Khatam')"
   ]
  },
  {
   "cell_type": "code",
   "execution_count": 22,
   "metadata": {},
   "outputs": [
    {
     "name": "stdout",
     "output_type": "stream",
     "text": [
      "File updated successfull\n"
     ]
    }
   ],
   "source": [
    "# adding content to extention file\n",
    "with open('oaths.txt', 'a') as file:\n",
    "    file.write('\\n The first ideal of knigth Radiant')\n",
    "    file.write('from the book : The Way of Kings\\n')\n",
    "    print('File updated successfull')"
   ]
  },
  {
   "cell_type": "markdown",
   "metadata": {},
   "source": [
    "OS library"
   ]
  },
  {
   "cell_type": "code",
   "execution_count": 2,
   "metadata": {},
   "outputs": [],
   "source": [
    "import os"
   ]
  },
  {
   "cell_type": "code",
   "execution_count": 25,
   "metadata": {},
   "outputs": [
    {
     "name": "stdout",
     "output_type": "stream",
     "text": [
      "the current path is:\n",
      "e:\\python ds\n"
     ]
    }
   ],
   "source": [
    "print('the current path is:')\n",
    "print(os.getcwd())"
   ]
  },
  {
   "cell_type": "code",
   "execution_count": 26,
   "metadata": {},
   "outputs": [
    {
     "name": "stdout",
     "output_type": "stream",
     "text": [
      "All the content in current directory\n"
     ]
    },
    {
     "data": {
      "text/plain": [
       "['.git',\n",
       " '.gitignore',\n",
       " '.vscode',\n",
       " 'basics.ipynb',\n",
       " 'condition.ipynb',\n",
       " 'dictionary.ipynb',\n",
       " 'file_handling.ipynb',\n",
       " 'hello.py',\n",
       " 'kahani.txt',\n",
       " 'list.ipynb',\n",
       " 'list_hw.ipynb',\n",
       " 'loop.ipynb',\n",
       " 'loop.py',\n",
       " 'loop2.py',\n",
       " 'oaths.txt',\n",
       " 'pattern.py',\n",
       " 'strings.ipynb',\n",
       " 't1.py',\n",
       " 't3.py',\n",
       " 't4.py',\n",
       " 'tuples_n_sets.ipynb']"
      ]
     },
     "execution_count": 26,
     "metadata": {},
     "output_type": "execute_result"
    }
   ],
   "source": [
    "print('All the content in current directory')\n",
    "os.listdir()"
   ]
  },
  {
   "cell_type": "code",
   "execution_count": 27,
   "metadata": {},
   "outputs": [
    {
     "name": "stdout",
     "output_type": "stream",
     "text": [
      "All the content of some other location\n"
     ]
    },
    {
     "data": {
      "text/plain": [
       "['%LOCALAPPDATA%',\n",
       " 'addins',\n",
       " 'appcompat',\n",
       " 'apppatch',\n",
       " 'AppReadiness',\n",
       " 'assembly',\n",
       " 'bcastdvr',\n",
       " 'bfsvc.exe',\n",
       " 'Boot',\n",
       " 'bootstat.dat',\n",
       " 'Branding',\n",
       " 'BrowserCore',\n",
       " 'CbsTemp',\n",
       " 'comsetup.log',\n",
       " 'Containers',\n",
       " 'Core.xml',\n",
       " 'CoreSingleLanguage.xml',\n",
       " 'CSUP.txt',\n",
       " 'Cursors',\n",
       " 'debug',\n",
       " 'diagerr.xml',\n",
       " 'diagnostics',\n",
       " 'DiagTrack',\n",
       " 'diagwrn.xml',\n",
       " 'DigitalLocker',\n",
       " 'DirectX.log',\n",
       " 'Downloaded Program Files',\n",
       " 'DtcInstall.log',\n",
       " 'ELAMBKUP',\n",
       " 'en-GB',\n",
       " 'en-US',\n",
       " 'explorer.exe',\n",
       " 'Firmware',\n",
       " 'Fonts',\n",
       " 'GameBarPresenceWriter',\n",
       " 'gethelp_audiotroubleshooter_latestpackage.zip',\n",
       " 'Globalization',\n",
       " 'Help',\n",
       " 'HelpPane.exe',\n",
       " 'hh.exe',\n",
       " 'HoloShell',\n",
       " 'HP',\n",
       " 'HPCUST1.exe',\n",
       " 'HPCUST2.exe',\n",
       " 'IdentityCRL',\n",
       " 'IME',\n",
       " 'ImmersiveControlPanel',\n",
       " 'INF',\n",
       " 'InputMethod',\n",
       " 'Installer',\n",
       " 'L2Schemas',\n",
       " 'LanguageOverlayCache',\n",
       " 'LiveKernelReports',\n",
       " 'Logs',\n",
       " 'Media',\n",
       " 'mib.bin',\n",
       " 'Microsoft.NET',\n",
       " 'Migration',\n",
       " 'Minidump',\n",
       " 'ModemLogs',\n",
       " 'notepad.exe',\n",
       " 'NvContainerRecovery.bat',\n",
       " 'OCR',\n",
       " 'Offline Web Pages',\n",
       " 'OMENSDK_Ver.exe',\n",
       " 'Panther',\n",
       " 'Performance',\n",
       " 'PFRO.log',\n",
       " 'PidVid_List',\n",
       " 'PLA',\n",
       " 'PolicyDefinitions',\n",
       " 'Prefetch',\n",
       " 'PrintDialog',\n",
       " 'Provisioning',\n",
       " 'regedit.exe',\n",
       " 'Registration',\n",
       " 'rescache',\n",
       " 'Resources',\n",
       " 'RtkBtManServ.exe',\n",
       " 'rtl8723b_mp_chip_bt40_fw_asic_rom_patch_new',\n",
       " 'rtl8723b_mp_chip_bt40_fw_asic_rom_patch_new_s1',\n",
       " 'rtl8723d_mp_chip_bt40_fw_asic_rom_patch_new',\n",
       " 'rtl8821c_mp_chip_bt40_fw_asic_rom_patch_new',\n",
       " 'rtl8822b_mp_chip_bt40_fw_asic_rom_patch_new',\n",
       " 'rtl8822c_mp_chip_bt40_fw_asic_rom_patch_new',\n",
       " 'rtl8852a_mp_chip_bt40_fw_asic_rom_patch_new',\n",
       " 'rtl8852b_mp_chip_bt40_fw_asic_rom_patch_new',\n",
       " 'rtl8852c_mp_chip_bt40_fw_asic_rom_patch_new',\n",
       " 'SchCache',\n",
       " 'schemas',\n",
       " 'security',\n",
       " 'ServiceProfiles',\n",
       " 'ServiceState',\n",
       " 'servicing',\n",
       " 'Setup',\n",
       " 'setupact.log',\n",
       " 'setuperr.log',\n",
       " 'ShellComponents',\n",
       " 'ShellExperiences',\n",
       " 'SKB',\n",
       " 'SoftwareDistribution',\n",
       " 'Speech',\n",
       " 'Speech_OneCore',\n",
       " 'splwow64.exe',\n",
       " 'System',\n",
       " 'system.ini',\n",
       " 'System32',\n",
       " 'SystemApps',\n",
       " 'SystemResources',\n",
       " 'SystemTemp',\n",
       " 'SysWOW64',\n",
       " 'TAPI',\n",
       " 'Tasks',\n",
       " 'Temp',\n",
       " 'TextInput',\n",
       " 'tracing',\n",
       " 'twain_32',\n",
       " 'twain_32.dll',\n",
       " 'UUS',\n",
       " 'Vss',\n",
       " 'WaaS',\n",
       " 'Web',\n",
       " 'win.ini',\n",
       " 'WindowsShell.Manifest',\n",
       " 'WindowsUpdate.log',\n",
       " 'winhlp32.exe',\n",
       " 'WinSxS',\n",
       " 'WMSysPr9.prx',\n",
       " 'write.exe',\n",
       " 'WUModels']"
      ]
     },
     "execution_count": 27,
     "metadata": {},
     "output_type": "execute_result"
    }
   ],
   "source": [
    "print('All the content of some other location')\n",
    "path = 'C:/Windows/'\n",
    "os.listdir(path)"
   ]
  },
  {
   "cell_type": "code",
   "execution_count": 3,
   "metadata": {},
   "outputs": [
    {
     "name": "stdout",
     "output_type": "stream",
     "text": [
      "E:/python ds/.git\\hooks\\applypatch-msg.sample\n",
      "E:/python ds/.git\\hooks\\commit-msg.sample\n",
      "E:/python ds/.git\\hooks\\fsmonitor-watchman.sample\n",
      "E:/python ds/.git\\hooks\\post-update.sample\n",
      "E:/python ds/.git\\hooks\\pre-applypatch.sample\n",
      "E:/python ds/.git\\hooks\\pre-commit.sample\n",
      "E:/python ds/.git\\hooks\\pre-merge-commit.sample\n",
      "E:/python ds/.git\\hooks\\pre-push.sample\n",
      "E:/python ds/.git\\hooks\\pre-rebase.sample\n",
      "E:/python ds/.git\\hooks\\pre-receive.sample\n",
      "E:/python ds/.git\\hooks\\prepare-commit-msg.sample\n",
      "E:/python ds/.git\\hooks\\push-to-checkout.sample\n",
      "E:/python ds/.git\\hooks\\sendemail-validate.sample\n",
      "E:/python ds/.git\\hooks\\update.sample\n",
      "E:/python ds/.git\\info\\exclude\n",
      "E:/python ds/.git\\logs\\refs\\heads\\main\n",
      "E:/python ds/.git\\logs\\refs\\remotes\\origin\\main\n",
      "E:/python ds/.git\\logs\\refs\\remotes\\origin\n",
      "E:/python ds/.git\\logs\\refs\\heads\n",
      "E:/python ds/.git\\logs\\refs\\remotes\n",
      "E:/python ds/.git\\logs\\HEAD\n",
      "E:/python ds/.git\\logs\\refs\n",
      "E:/python ds/.git\\objects\\00\\4834e6b35bf949140e9d1ef8b5e6ced8234ad0\n",
      "E:/python ds/.git\\objects\\01\\f68144d412d0aafca1e2d223155da63377e935\n",
      "E:/python ds/.git\\objects\\07\\24f247c87e41a191376e7103cf084ddf7b12f1\n",
      "E:/python ds/.git\\objects\\07\\cc55b1d54591e885fe26d4f55feb7b29222616\n",
      "E:/python ds/.git\\objects\\0d\\c7b4b001b8af6250cc8a88aec74562fcd1bb27\n",
      "E:/python ds/.git\\objects\\11\\3dfced4b5f4d54cc42b33ae81f5c56f4e0ad30\n",
      "E:/python ds/.git\\objects\\13\\05c9b60818c013af7ae28ac6629f9014761dc0\n",
      "E:/python ds/.git\\objects\\22\\b2b043dcdcc44578d24ad658fe529ae8c888af\n",
      "E:/python ds/.git\\objects\\27\\a7203e03d34174e16a92a19f0fb41614daf418\n",
      "E:/python ds/.git\\objects\\2a\\30ca28c9fa25583a5780fabb322c72d731f537\n",
      "E:/python ds/.git\\objects\\3c\\11cb72fa236cbfb5af69a405115abcef0eceb7\n",
      "E:/python ds/.git\\objects\\3d\\0c72f7da704d2a5fcdb2707610e0f2755bcfd6\n",
      "E:/python ds/.git\\objects\\3d\\eb2623e57cd9ff9ec3e1a3d42feb66bcb93655\n",
      "E:/python ds/.git\\objects\\41\\87df7389e0860eb3de22ebd6078731acbab3b7\n",
      "E:/python ds/.git\\objects\\4b\\84b8777e1e1fbf41a9c1f63f3abedfe3336ffa\n",
      "E:/python ds/.git\\objects\\4f\\0792e6eb26741152c6c9dd0e734668be166e8f\n",
      "E:/python ds/.git\\objects\\52\\93ccbd3915728236c675d93a4cfc684e10beff\n",
      "E:/python ds/.git\\objects\\52\\e5a991cb77b599712d7ef26a50cc9d50fdab62\n",
      "E:/python ds/.git\\objects\\59\\7153d82dc20b49cd8cf08c1c148ba6ca3c7940\n",
      "E:/python ds/.git\\objects\\68\\aa82a2264de16e57323889fad0d592db4a4a67\n",
      "E:/python ds/.git\\objects\\6a\\704bb9d96fce8285dcaf2e2c750d8520c82ffb\n",
      "E:/python ds/.git\\objects\\6b\\6077a2f0e0c2a011ba94c4de3293bae535d4e2\n",
      "E:/python ds/.git\\objects\\71\\e9ff35c7370cfc3f75ba401a78c4db657062da\n",
      "E:/python ds/.git\\objects\\7b\\0eb028d6d6658786643774bec91bfe3a6dba4f\n",
      "E:/python ds/.git\\objects\\7f\\a8bcca71cad619f689b5d8aedb049842a1368d\n",
      "E:/python ds/.git\\objects\\82\\00e40378566931e3d8f863897be204953aa09a\n",
      "E:/python ds/.git\\objects\\82\\e50d09b4f607d2bdde56cd830d06018bea6d85\n",
      "E:/python ds/.git\\objects\\82\\efc7e6d83e3d25c40fa9c2a5d24daec2538521\n",
      "E:/python ds/.git\\objects\\85\\4e9443bbcec6ff090be5ee119ea23238a2e951\n",
      "E:/python ds/.git\\objects\\88\\4552d1355cd2d668b267cc81da7e01d51f1db7\n",
      "E:/python ds/.git\\objects\\89\\adb91ee8e69773835ccda5bb67a6a407870fad\n",
      "E:/python ds/.git\\objects\\8c\\7e00e8cad9cdd26e005be7749a00102d29c577\n",
      "E:/python ds/.git\\objects\\8f\\f23d8e3294920a7a0c4dbf01526d8189cb3473\n",
      "E:/python ds/.git\\objects\\9e\\f90cb5df9f09f27694d8aceac7dbc58d35e1ad\n",
      "E:/python ds/.git\\objects\\a0\\d676a149816cdae68174859574721000fcf980\n",
      "E:/python ds/.git\\objects\\a3\\e6ba95503398b222b8da28d52c90fd578cf242\n",
      "E:/python ds/.git\\objects\\ab\\52fbfd630f5931d9a6cfd51ba0950ec31678f5\n",
      "E:/python ds/.git\\objects\\ac\\03e76f4542584e2f5e7f591a05e8f6da9118b9\n",
      "E:/python ds/.git\\objects\\b4\\af9db9f5b3a201d47c29cec9164347d47ac24e\n",
      "E:/python ds/.git\\objects\\b6\\c490f5c996d9bae09f903e421c497d510b2dd4\n",
      "E:/python ds/.git\\objects\\bc\\c938567ef336882468091b28249b46369dd31d\n",
      "E:/python ds/.git\\objects\\cf\\4e13822d7ad1033f8562cf6f5f6bc801d88aa6\n",
      "E:/python ds/.git\\objects\\d4\\1f94c60718d22d61c5c29506fcd193feb26932\n",
      "E:/python ds/.git\\objects\\da\\2ab80de2ad642149786c35fb9a762e65e7bb52\n",
      "E:/python ds/.git\\objects\\e1\\080ad2979bb9c80ae557859084fb680e31e6ce\n",
      "E:/python ds/.git\\objects\\ea\\4e723e47d7d06cd90f17ca98ad573c3c84b0cc\n",
      "E:/python ds/.git\\objects\\f0\\0ca754ad6587b9691a84efd32fe5b9ad1d527d\n",
      "E:/python ds/.git\\objects\\f0\\5024c60240116362a23b31989ef9d32afb1c17\n",
      "E:/python ds/.git\\objects\\f2\\762bcadff108a5072c2cb4814af7cdf54c9e30\n",
      "E:/python ds/.git\\objects\\f2\\e59c272b229bc67cca7d25b939ae201be32468\n",
      "E:/python ds/.git\\objects\\f3\\85cfd7f7382b337fb8af7dbcd9fa6733aa3e04\n",
      "E:/python ds/.git\\objects\\f4\\376db35c8a3bcac4ec9eb04959d3f7971eb2e5\n",
      "E:/python ds/.git\\objects\\f7\\1b86dea2cb862f96e7332c9b5a9b4947855aa7\n",
      "E:/python ds/.git\\objects\\ff\\963da83c9e1887ae11a47f9e4e1f7d9ea0ecdd\n",
      "E:/python ds/.git\\objects\\00\n",
      "E:/python ds/.git\\objects\\01\n",
      "E:/python ds/.git\\objects\\07\n",
      "E:/python ds/.git\\objects\\0d\n",
      "E:/python ds/.git\\objects\\11\n",
      "E:/python ds/.git\\objects\\13\n",
      "E:/python ds/.git\\objects\\22\n",
      "E:/python ds/.git\\objects\\27\n",
      "E:/python ds/.git\\objects\\2a\n",
      "E:/python ds/.git\\objects\\3c\n",
      "E:/python ds/.git\\objects\\3d\n",
      "E:/python ds/.git\\objects\\41\n",
      "E:/python ds/.git\\objects\\4b\n",
      "E:/python ds/.git\\objects\\4f\n",
      "E:/python ds/.git\\objects\\52\n",
      "E:/python ds/.git\\objects\\59\n",
      "E:/python ds/.git\\objects\\68\n",
      "E:/python ds/.git\\objects\\6a\n",
      "E:/python ds/.git\\objects\\6b\n",
      "E:/python ds/.git\\objects\\71\n",
      "E:/python ds/.git\\objects\\7b\n",
      "E:/python ds/.git\\objects\\7f\n",
      "E:/python ds/.git\\objects\\82\n",
      "E:/python ds/.git\\objects\\85\n",
      "E:/python ds/.git\\objects\\88\n",
      "E:/python ds/.git\\objects\\89\n",
      "E:/python ds/.git\\objects\\8c\n",
      "E:/python ds/.git\\objects\\8f\n",
      "E:/python ds/.git\\objects\\9e\n",
      "E:/python ds/.git\\objects\\a0\n",
      "E:/python ds/.git\\objects\\a3\n",
      "E:/python ds/.git\\objects\\ab\n",
      "E:/python ds/.git\\objects\\ac\n",
      "E:/python ds/.git\\objects\\b4\n",
      "E:/python ds/.git\\objects\\b6\n",
      "E:/python ds/.git\\objects\\bc\n",
      "E:/python ds/.git\\objects\\cf\n",
      "E:/python ds/.git\\objects\\d4\n",
      "E:/python ds/.git\\objects\\da\n",
      "E:/python ds/.git\\objects\\e1\n",
      "E:/python ds/.git\\objects\\ea\n",
      "E:/python ds/.git\\objects\\f0\n",
      "E:/python ds/.git\\objects\\f2\n",
      "E:/python ds/.git\\objects\\f3\n",
      "E:/python ds/.git\\objects\\f4\n",
      "E:/python ds/.git\\objects\\f7\n",
      "E:/python ds/.git\\objects\\ff\n",
      "E:/python ds/.git\\objects\\info\n",
      "E:/python ds/.git\\objects\\pack\n",
      "E:/python ds/.git\\refs\\heads\\main\n",
      "E:/python ds/.git\\refs\\remotes\\origin\\main\n",
      "E:/python ds/.git\\refs\\remotes\\origin\n",
      "E:/python ds/.git\\refs\\heads\n",
      "E:/python ds/.git\\refs\\remotes\n",
      "E:/python ds/.git\\refs\\tags\n",
      "E:/python ds/.git\\COMMIT_EDITMSG\n",
      "E:/python ds/.git\\config\n",
      "E:/python ds/.git\\description\n",
      "E:/python ds/.git\\FETCH_HEAD\n",
      "E:/python ds/.git\\HEAD\n",
      "E:/python ds/.git\\index\n",
      "E:/python ds/.git\\ORIG_HEAD\n",
      "E:/python ds/.git\\hooks\n",
      "E:/python ds/.git\\info\n",
      "E:/python ds/.git\\logs\n",
      "E:/python ds/.git\\objects\n",
      "E:/python ds/.git\\refs\n",
      "E:/python ds/.vscode\\settings.json\n",
      "E:/python ds/.gitignore\n",
      "E:/python ds/basics.ipynb\n",
      "E:/python ds/condition.ipynb\n",
      "E:/python ds/dictionary.ipynb\n",
      "E:/python ds/file_handling.ipynb\n",
      "E:/python ds/hello.py\n",
      "E:/python ds/kahani.txt\n",
      "E:/python ds/list.ipynb\n",
      "E:/python ds/list_hw.ipynb\n",
      "E:/python ds/loop.ipynb\n",
      "E:/python ds/loop.py\n",
      "E:/python ds/loop2.py\n",
      "E:/python ds/oaths.txt\n",
      "E:/python ds/pattern.py\n",
      "E:/python ds/strings.ipynb\n",
      "E:/python ds/t1.py\n",
      "E:/python ds/t3.py\n",
      "E:/python ds/t4.py\n",
      "E:/python ds/tuples_n_sets.ipynb\n",
      "E:/python ds/.git\n",
      "E:/python ds/.vscode\n"
     ]
    }
   ],
   "source": [
    "# recursive file and folder \n",
    "for root, dirs,files in os.walk(r\"E:/python ds/\", topdown=False):\n",
    "    for name in files:\n",
    "        print(os.path.join(root, name))\n",
    "    for name in dirs:\n",
    "        print(os.path.join(root, name))"
   ]
  },
  {
   "cell_type": "code",
   "execution_count": null,
   "metadata": {},
   "outputs": [],
   "source": []
  }
 ],
 "metadata": {
  "kernelspec": {
   "display_name": "base",
   "language": "python",
   "name": "python3"
  },
  "language_info": {
   "codemirror_mode": {
    "name": "ipython",
    "version": 3
   },
   "file_extension": ".py",
   "mimetype": "text/x-python",
   "name": "python",
   "nbconvert_exporter": "python",
   "pygments_lexer": "ipython3",
   "version": "3.10.10"
  },
  "orig_nbformat": 4
 },
 "nbformat": 4,
 "nbformat_minor": 2
}
