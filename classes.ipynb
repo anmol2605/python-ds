{
 "cells": [
  {
   "cell_type": "code",
   "execution_count": 1,
   "metadata": {},
   "outputs": [],
   "source": [
    "class cat:\n",
    "    def __init__(self):\n",
    "        print(\"The class constructor\")"
   ]
  },
  {
   "cell_type": "code",
   "execution_count": 2,
   "metadata": {},
   "outputs": [
    {
     "name": "stdout",
     "output_type": "stream",
     "text": [
      "The class constructor\n",
      "<__main__.cat object at 0x000001828FB74850> <class '__main__.cat'>\n"
     ]
    }
   ],
   "source": [
    "c1 = cat()\n",
    "print(c1, type(c1))"
   ]
  },
  {
   "cell_type": "code",
   "execution_count": 3,
   "metadata": {},
   "outputs": [],
   "source": [
    "class student:\n",
    "    def __init__(self, name, klass, rollno, stream='bio'):\n",
    "        self.name = name\n",
    "        self.klass = klass\n",
    "        self.rollno = rollno\n",
    "        self.strem = stream\n",
    "        self.marks = {}\n",
    "    def think(self, object):\n",
    "        print(f\"{self.name} is thinking about {object}\")\n",
    "    def setMarks(self, subject, value):\n",
    "        self.marks[subject] = value"
   ]
  },
  {
   "cell_type": "code",
   "execution_count": 4,
   "metadata": {},
   "outputs": [],
   "source": [
    "aditi = student(\"aditi\", 12, '22', \"Math\")\n",
    "anmol = student(\"anmol\", 11, '23')\n",
    "anmol.setMarks('Hindi', 90)\n",
    "anmol.setMarks('English', 95)\n",
    "anmol.setMarks('Maths', 75)\n",
    "anmol.setMarks('Science', 67)\n"
   ]
  },
  {
   "cell_type": "code",
   "execution_count": 5,
   "metadata": {},
   "outputs": [
    {
     "name": "stdout",
     "output_type": "stream",
     "text": [
      "{'Hindi': 90, 'English': 95, 'Maths': 75, 'Science': 67}\n"
     ]
    }
   ],
   "source": [
    "print(anmol.marks)"
   ]
  },
  {
   "cell_type": "markdown",
   "metadata": {},
   "source": [
    "Inheritance"
   ]
  },
  {
   "cell_type": "code",
   "execution_count": 6,
   "metadata": {},
   "outputs": [],
   "source": [
    "class SuperList(list):\n",
    "   pass"
   ]
  },
  {
   "cell_type": "code",
   "execution_count": 7,
   "metadata": {},
   "outputs": [
    {
     "name": "stdout",
     "output_type": "stream",
     "text": [
      "[1, 2, 3, 4, 5]\n",
      "[1, 2, 3, 4, 5, 20]\n"
     ]
    }
   ],
   "source": [
    "x = SuperList([1,2,3,4,5])\n",
    "print(x)\n",
    "x.append(20)\n",
    "print(x)"
   ]
  },
  {
   "cell_type": "code",
   "execution_count": 8,
   "metadata": {},
   "outputs": [],
   "source": [
    "class SuperList(list):\n",
    "    def all_index(self, search):\n",
    "        idxs = []\n",
    "        start_idx = 0\n",
    "        for i in range(self.count(search)):\n",
    "            pos = self.index(search, start_idx)\n",
    "            idxs.append(pos)\n",
    "            start_idx = pos+1\n",
    "            return idxs"
   ]
  },
  {
   "cell_type": "code",
   "execution_count": 9,
   "metadata": {},
   "outputs": [
    {
     "name": "stdout",
     "output_type": "stream",
     "text": [
      "[1, 2, 3, 4, 5, 6]\n",
      "[1, 2, 3, 4, 5, 6, 20]\n"
     ]
    }
   ],
   "source": [
    "x = SuperList([1,2,3,4,5,6])\n",
    "print(x)\n",
    "x.append(20)\n",
    "print(x)"
   ]
  },
  {
   "cell_type": "code",
   "execution_count": 10,
   "metadata": {},
   "outputs": [
    {
     "data": {
      "text/plain": [
       "[1]"
      ]
     },
     "execution_count": 10,
     "metadata": {},
     "output_type": "execute_result"
    }
   ],
   "source": [
    "x.all_index(2)"
   ]
  },
  {
   "cell_type": "code",
   "execution_count": null,
   "metadata": {},
   "outputs": [],
   "source": []
  }
 ],
 "metadata": {
  "kernelspec": {
   "display_name": "base",
   "language": "python",
   "name": "python3"
  },
  "language_info": {
   "codemirror_mode": {
    "name": "ipython",
    "version": 3
   },
   "file_extension": ".py",
   "mimetype": "text/x-python",
   "name": "python",
   "nbconvert_exporter": "python",
   "pygments_lexer": "ipython3",
   "version": "3.10.10"
  },
  "orig_nbformat": 4
 },
 "nbformat": 4,
 "nbformat_minor": 2
}
