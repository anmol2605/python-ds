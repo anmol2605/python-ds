{
 "cells": [
  {
   "cell_type": "code",
   "execution_count": null,
   "metadata": {},
   "outputs": [],
   "source": []
  },
  {
   "cell_type": "markdown",
   "metadata": {},
   "source": [
    "#### list\n",
    "- indexed, ordered, mutable, allows duplicate elements, heterogeneous, '[ ]','list()'\n",
    "#### tuple\n",
    "- indexes, ordered, **immutable**, allows duplicate elements, heterogeneous,'{ }','set()'\n",
    "#### dictionary\n",
    "- **unordered**, mutable,**does not allow duplicate keys**, heterogenous, key:value pairs, '{ }', 'dict()'"
   ]
  },
  {
   "cell_type": "markdown",
   "metadata": {},
   "source": [
    "# list\n",
    "- creating\n",
    "- indexing and slicing\n",
    "- methods(11)\n",
    "- list comprihension"
   ]
  },
  {
   "cell_type": "code",
   "execution_count": 2,
   "metadata": {},
   "outputs": [],
   "source": [
    "x = [1,2,3,4,5]\n",
    "names = ['John','Paul','George','Ringo']\n",
    "mix = [1,'john',3.14, True]\n",
    "nested = [1,2,3] * 5\n",
    "words = 'this is sparta'.split()\n",
    "chars = list('Alexander')"
   ]
  },
  {
   "cell_type": "code",
   "execution_count": 5,
   "metadata": {},
   "outputs": [
    {
     "name": "stdout",
     "output_type": "stream",
     "text": [
      "1\n",
      "5\n"
     ]
    }
   ],
   "source": [
    "print(x[0])\n",
    "print(x[-1])\n",
    "x[0] = 100\n"
   ]
  },
  {
   "cell_type": "code",
   "execution_count": 5,
   "metadata": {},
   "outputs": [
    {
     "data": {
      "text/plain": [
       "['A', 'l', 'e', 'x', 'a']"
      ]
     },
     "execution_count": 5,
     "metadata": {},
     "output_type": "execute_result"
    }
   ],
   "source": [
    "chars[:5]"
   ]
  },
  {
   "cell_type": "code",
   "execution_count": 6,
   "metadata": {},
   "outputs": [
    {
     "data": {
      "text/plain": [
       "['r', 'e', 'd', 'n', 'a', 'x', 'e', 'l', 'A']"
      ]
     },
     "execution_count": 6,
     "metadata": {},
     "output_type": "execute_result"
    }
   ],
   "source": [
    "chars[::-1]"
   ]
  },
  {
   "cell_type": "markdown",
   "metadata": {},
   "source": [
    "- adding\n",
    "    - append()- adds an element to the end of the list\n",
    "    - extend() - adds all elements of one list to another list\n",
    "    - insert() - adds an element at a specific index\n",
    "\n",
    "- Removing\n",
    "    - remove()\n",
    "    - pop()\n",
    "    - clear()\n",
    "    \n"
   ]
  },
  {
   "cell_type": "code",
   "execution_count": 3,
   "metadata": {},
   "outputs": [
    {
     "name": "stdout",
     "output_type": "stream",
     "text": [
      "[1, 2, 3, 4, 5, 6, 3]\n"
     ]
    }
   ],
   "source": [
    "x.append(6)\n",
    "x.append(3)\n",
    "print(x)\n"
   ]
  },
  {
   "cell_type": "code",
   "execution_count": 8,
   "metadata": {},
   "outputs": [
    {
     "name": "stdout",
     "output_type": "stream",
     "text": [
      "[100, 2, 3, 4, 5, 6, 3, 11, 12, 13]\n"
     ]
    }
   ],
   "source": [
    "a = [11,12,13]\n",
    "x.extend(a)\n",
    "print(x)"
   ]
  },
  {
   "cell_type": "code",
   "execution_count": 9,
   "metadata": {},
   "outputs": [
    {
     "name": "stdout",
     "output_type": "stream",
     "text": [
      "[100, 2, 3, 4, 5, 100, 500, 6, 3, 11, 12, 13]\n"
     ]
    }
   ],
   "source": [
    "x.insert(5,100)\n",
    "x.insert(6,500)\n",
    "print(x)"
   ]
  },
  {
   "cell_type": "code",
   "execution_count": 1,
   "metadata": {},
   "outputs": [
    {
     "name": "stdout",
     "output_type": "stream",
     "text": [
      "['1', '2', '5', '6', '8', '9', '7', '4', '10', '11']\n"
     ]
    }
   ],
   "source": [
    "udata = []\n",
    "for i in range (10):\n",
    "    x = input('Enter the values')\n",
    "    udata.append(x)\n",
    "print(udata)\n"
   ]
  },
  {
   "cell_type": "code",
   "execution_count": 19,
   "metadata": {},
   "outputs": [
    {
     "name": "stdout",
     "output_type": "stream",
     "text": [
      "['1', '2', '3', '4', '6', '7', '8', '9', '10']\n"
     ]
    }
   ],
   "source": [
    "if '5' in udata:\n",
    "    udata.remove('5')\n",
    "print(udata)"
   ]
  },
  {
   "cell_type": "code",
   "execution_count": 21,
   "metadata": {},
   "outputs": [
    {
     "name": "stdout",
     "output_type": "stream",
     "text": [
      "14 not found\n"
     ]
    }
   ],
   "source": [
    "udata.remove('14') if '14' in udata else print('14 not found')"
   ]
  },
  {
   "cell_type": "code",
   "execution_count": 23,
   "metadata": {},
   "outputs": [
    {
     "name": "stdout",
     "output_type": "stream",
     "text": [
      "5\n",
      "3\n"
     ]
    }
   ],
   "source": [
    "x = [1,2,3,4,5]\n",
    "print(x.pop())\n",
    "print(x.pop(2))"
   ]
  },
  {
   "cell_type": "code",
   "execution_count": 24,
   "metadata": {},
   "outputs": [],
   "source": [
    "del x "
   ]
  },
  {
   "cell_type": "code",
   "execution_count": 25,
   "metadata": {},
   "outputs": [],
   "source": [
    "a = [1,2,3,3,1,1,4,1,3,1,3]\n",
    "\n",
    "\n"
   ]
  },
  {
   "cell_type": "code",
   "execution_count": 26,
   "metadata": {},
   "outputs": [
    {
     "name": "stdout",
     "output_type": "stream",
     "text": [
      "['George', 'John', 'Paul', 'Ringo']\n"
     ]
    }
   ],
   "source": [
    "names.sort()\n",
    "print(names)"
   ]
  },
  {
   "cell_type": "code",
   "execution_count": 39,
   "metadata": {},
   "outputs": [
    {
     "name": "stdout",
     "output_type": "stream",
     "text": [
      "[0, 1, 1, 2, 3, 5, 8, 13, 21, 34, 55, 89]\n"
     ]
    }
   ],
   "source": [
    "x = [0,1]\n",
    "for i in range(10):\n",
    "    x.append(x[-2]+ x[-1])\n",
    "print(x)"
   ]
  },
  {
   "cell_type": "code",
   "execution_count": 3,
   "metadata": {},
   "outputs": [
    {
     "name": "stdout",
     "output_type": "stream",
     "text": [
      "[1, 2, 3, 4, 5]\n",
      "[1, 4, 9, 16, 25]\n"
     ]
    }
   ],
   "source": [
    "x = [1,2,3,4,5]\n",
    "x2 = []\n",
    "for i in x:\n",
    "    s = i**2\n",
    "    x2.append(s)\n",
    "print(x)\n",
    "print(x2)"
   ]
  },
  {
   "cell_type": "code",
   "execution_count": 17,
   "metadata": {},
   "outputs": [
    {
     "name": "stdout",
     "output_type": "stream",
     "text": [
      "['Peter', 'Bruce', 'Clark']\n"
     ]
    }
   ],
   "source": [
    "names = ['Peter Parker', 'Bruce Wayne', 'Clark Kent']\n",
    "fnames = []\n",
    "for nm in names:\n",
    "    fnames.append(nm.split()[0])\n",
    "print(fnames)"
   ]
  },
  {
   "cell_type": "code",
   "execution_count": 13,
   "metadata": {},
   "outputs": [
    {
     "name": "stdout",
     "output_type": "stream",
     "text": [
      "[2, 4, 6, 8]\n"
     ]
    }
   ],
   "source": [
    "list =[1,2,3,4,5,6,7,8,9]\n",
    "list2 = []\n",
    "for i in list:\n",
    "    if i %2==0:\n",
    "        list2.append(i)\n",
    "print(list2)"
   ]
  },
  {
   "cell_type": "code",
   "execution_count": 18,
   "metadata": {},
   "outputs": [
    {
     "name": "stdout",
     "output_type": "stream",
     "text": [
      "[1, 4, 9, 16, 25]\n"
     ]
    }
   ],
   "source": [
    "x2 = [i**2 for i in x]\n",
    "print(x2)\n"
   ]
  },
  {
   "cell_type": "code",
   "execution_count": 19,
   "metadata": {},
   "outputs": [
    {
     "name": "stdout",
     "output_type": "stream",
     "text": [
      "['Parker', 'Wayne', 'Kent']\n"
     ]
    }
   ],
   "source": [
    "lnames = [nm.split()[-1] for nm in names]\n",
    "print(lnames)"
   ]
  },
  {
   "cell_type": "code",
   "execution_count": 20,
   "metadata": {},
   "outputs": [
    {
     "name": "stdout",
     "output_type": "stream",
     "text": [
      "[2, 4, 6, 8, 10, 12]\n"
     ]
    }
   ],
   "source": [
    "x = [1,2,3,4,5,6,7,8,9,10,12]\n",
    "xevens = [ i for i in x if i % 2 ==0]\n",
    "print(xevens)"
   ]
  },
  {
   "cell_type": "code",
   "execution_count": 1,
   "metadata": {},
   "outputs": [
    {
     "name": "stdout",
     "output_type": "stream",
     "text": [
      "[1, 2, 3, 4, 5, 6, 10]\n"
     ]
    }
   ],
   "source": [
    "x = ['1','2','3','4','5','6','','10']\n",
    "x_clean = [int(i) for i in x if i.isnumeric()]\n",
    "print(x_clean)\n"
   ]
  },
  {
   "cell_type": "code",
   "execution_count": 2,
   "metadata": {},
   "outputs": [
    {
     "name": "stdout",
     "output_type": "stream",
     "text": [
      "['1.jpg']\n",
      "[['1.jpg', '3.png', '2.png', '4.tif', '5.tif'], ['1.jpg', '3.png', '2.png', '4.tif', '5.tif']]\n"
     ]
    }
   ],
   "source": [
    "files = ['1.jpg','3.png','2.png','4.tif','5.tif']\n",
    "jpg_files = [file for file in files if file.endswith('.jpg')]\n",
    "png_files = [files for file in files if file.endswith('.png')]\n",
    "print(jpg_files)\n",
    "print(png_files)"
   ]
  },
  {
   "cell_type": "code",
   "execution_count": 3,
   "metadata": {},
   "outputs": [
    {
     "name": "stdout",
     "output_type": "stream",
     "text": [
      "['1.jpg']\n"
     ]
    }
   ],
   "source": [
    "jpg_files = []\n",
    "for file in files:\n",
    "    if file.endswith('jpg'):\n",
    "        jpg_files.append(file)\n",
    "print(jpg_files)"
   ]
  },
  {
   "cell_type": "code",
   "execution_count": 4,
   "metadata": {},
   "outputs": [
    {
     "name": "stdout",
     "output_type": "stream",
     "text": [
      "[1, 27, 125, 1, 27, 125, 343, 125, 125, 729, 27, 1, 125, 343, 729, 27, 125, 343, 1, 27, 343, 729, 729]\n"
     ]
    }
   ],
   "source": [
    "y = [1,2,3,4,5,1,2,3,4,5,8,7,5,8,6,5,4,2,9,6,3,1,5,6,7,9,3,4,5,6,7,1,2,3,4,7,9,4,9,8,10]\n",
    "x = [a*a*a for a in y if a%2!=0]\n",
    "print (x)"
   ]
  },
  {
   "cell_type": "code",
   "execution_count": null,
   "metadata": {},
   "outputs": [],
   "source": []
  }
 ],
 "metadata": {
  "kernelspec": {
   "display_name": "base",
   "language": "python",
   "name": "python3"
  },
  "language_info": {
   "codemirror_mode": {
    "name": "ipython",
    "version": 3
   },
   "file_extension": ".py",
   "mimetype": "text/x-python",
   "name": "python",
   "nbconvert_exporter": "python",
   "pygments_lexer": "ipython3",
   "version": "3.10.10"
  },
  "orig_nbformat": 4
 },
 "nbformat": 4,
 "nbformat_minor": 2
}
