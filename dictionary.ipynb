{
 "cells": [
  {
   "cell_type": "code",
   "execution_count": 1,
   "metadata": {},
   "outputs": [
    {
     "name": "stdout",
     "output_type": "stream",
     "text": [
      "{'English': 90, 'Hindi': 77, 'Maths': 34, 'Chemistry': 34, 'Evs': 56}\n"
     ]
    }
   ],
   "source": [
    "raju = [56,90,67,82,44]\n",
    "raju_dict = {\n",
    "    'English': 90,\n",
    "    'Hindi': 77,\n",
    "    'Maths': 34,\n",
    "    'Chemistry' : 34,\n",
    "    'Evs' : 56\n",
    "}\n",
    "print(raju_dict)"
   ]
  },
  {
   "cell_type": "code",
   "execution_count": 2,
   "metadata": {},
   "outputs": [],
   "source": [
    "company = {\n",
    "    'emp001': {\n",
    "        'name': \"Amar Kumar\",\n",
    "        'designation': 'Assistant III',\n",
    "        'salary': 32000,\n",
    "    \n",
    "    },\n",
    "    'emp002':{\n",
    "        'name': 'Ranu Singh',\n",
    "        'designation': 'Staff officer',\n",
    "        'salary': 89000\n",
    "\n",
    "    },\n",
    "    'total_emp': 2,\n",
    "    'department': 'Accounts',\n",
    "    'vacancy': ['clerk', 'manager','assistant I']\n",
    "}"
   ]
  },
  {
   "cell_type": "code",
   "execution_count": 3,
   "metadata": {},
   "outputs": [
    {
     "data": {
      "text/plain": [
       "{'emp001': {'name': 'Amar Kumar',\n",
       "  'designation': 'Assistant III',\n",
       "  'salary': 32000},\n",
       " 'emp002': {'name': 'Ranu Singh',\n",
       "  'designation': 'Staff officer',\n",
       "  'salary': 89000},\n",
       " 'total_emp': 2,\n",
       " 'department': 'Accounts',\n",
       " 'vacancy': ['clerk', 'manager', 'assistant I']}"
      ]
     },
     "execution_count": 3,
     "metadata": {},
     "output_type": "execute_result"
    }
   ],
   "source": [
    "company"
   ]
  },
  {
   "cell_type": "code",
   "execution_count": 3,
   "metadata": {},
   "outputs": [
    {
     "name": "stdout",
     "output_type": "stream",
     "text": [
      "{'emp001': {'name': 'Amar Kumar', 'designation': 'Assistant III', 'salary': 32000}, 'emp002': {'name': 'Ranu Singh', 'designation': 'Staff officer', 'salary': 89000}, 'total_emp': 2, 'department': 'Accounts', 'vacancy': ['clerk', 'manager', 'assistant I'], 'name': ' Acme inc.'}\n"
     ]
    }
   ],
   "source": [
    "company['name'] =' Acme inc.'\n",
    "print(company)"
   ]
  },
  {
   "cell_type": "code",
   "execution_count": 4,
   "metadata": {},
   "outputs": [
    {
     "data": {
      "text/plain": [
       "{'emp001': {'name': 'Amar Kumar',\n",
       "  'designation': 'Assistant III',\n",
       "  'salary': 32000},\n",
       " 'emp002': {'name': 'Ranu Singh',\n",
       "  'designation': 'Staff officer',\n",
       "  'salary': 89000},\n",
       " 'total_emp': 2,\n",
       " 'department': 'Accounts',\n",
       " 'vacancy': ['clerk', 'manager', 'assistant I'],\n",
       " 'name': ' Acme inc.'}"
      ]
     },
     "execution_count": 4,
     "metadata": {},
     "output_type": "execute_result"
    }
   ],
   "source": [
    "company"
   ]
  },
  {
   "cell_type": "code",
   "execution_count": 6,
   "metadata": {},
   "outputs": [
    {
     "name": "stdout",
     "output_type": "stream",
     "text": [
      "{'emp001': {'name': 'Amar Kumar', 'designation': 'Assistant III', 'salary': 32000}, 'emp002': {'name': 'Ranu Singh', 'designation': 'Staff officer', 'salary': 89000}, 'total_emp': 3, 'department': 'Accounts', 'vacancy': ['clerk', 'manager', 'assistant I'], 'name': ' Acme inc.', 'emp003': {'name': 'Ajay Sharma', 'designation': 'clerk', 'salary': 45000}}\n"
     ]
    }
   ],
   "source": [
    "company['total_emp']= 3\n",
    "company['emp003'] = {\n",
    "    'name': 'Ajay Sharma',\n",
    "    'designation': 'clerk',\n",
    "    'salary': 45000\n",
    "}"
   ]
  },
  {
   "cell_type": "code",
   "execution_count": 7,
   "metadata": {},
   "outputs": [
    {
     "data": {
      "text/plain": [
       "{'emp001': {'name': 'Amar Kumar',\n",
       "  'designation': 'Assistant III',\n",
       "  'salary': 32000},\n",
       " 'emp002': {'name': 'Ranu Singh',\n",
       "  'designation': 'Staff officer',\n",
       "  'salary': 89000},\n",
       " 'total_emp': 3,\n",
       " 'department': 'Accounts',\n",
       " 'vacancy': ['clerk', 'manager', 'assistant I'],\n",
       " 'name': ' Acme inc.',\n",
       " 'emp003': {'name': 'Ajay Sharma', 'designation': 'clerk', 'salary': 45000}}"
      ]
     },
     "execution_count": 7,
     "metadata": {},
     "output_type": "execute_result"
    }
   ],
   "source": [
    "company"
   ]
  },
  {
   "cell_type": "code",
   "execution_count": 8,
   "metadata": {},
   "outputs": [],
   "source": [
    "company.get('website')"
   ]
  },
  {
   "cell_type": "code",
   "execution_count": 9,
   "metadata": {},
   "outputs": [
    {
     "name": "stdout",
     "output_type": "stream",
     "text": [
      "name exists in dict\n"
     ]
    }
   ],
   "source": [
    "if 'name' in company:\n",
    "    print('name exists in dict')"
   ]
  },
  {
   "cell_type": "code",
   "execution_count": 10,
   "metadata": {},
   "outputs": [
    {
     "name": "stdout",
     "output_type": "stream",
     "text": [
      "dict_keys(['emp001', 'emp002', 'total_emp', 'department', 'vacancy', 'name', 'emp003'])\n",
      "dict_values([{'name': 'Amar Kumar', 'designation': 'Assistant III', 'salary': 32000}, {'name': 'Ranu Singh', 'designation': 'Staff officer', 'salary': 89000}, 3, 'Accounts', ['clerk', 'manager', 'assistant I'], ' Acme inc.', {'name': 'Ajay Sharma', 'designation': 'clerk', 'salary': 45000}])\n"
     ]
    }
   ],
   "source": [
    "print(company.keys())\n",
    "print(company.values())"
   ]
  },
  {
   "cell_type": "code",
   "execution_count": 11,
   "metadata": {},
   "outputs": [
    {
     "name": "stdout",
     "output_type": "stream",
     "text": [
      "dict_items([('emp001', {'name': 'Amar Kumar', 'designation': 'Assistant III', 'salary': 32000}), ('emp002', {'name': 'Ranu Singh', 'designation': 'Staff officer', 'salary': 89000}), ('total_emp', 3), ('department', 'Accounts'), ('vacancy', ['clerk', 'manager', 'assistant I']), ('name', ' Acme inc.'), ('emp003', {'name': 'Ajay Sharma', 'designation': 'clerk', 'salary': 45000})])\n"
     ]
    }
   ],
   "source": [
    "print(company.items())"
   ]
  },
  {
   "cell_type": "code",
   "execution_count": 12,
   "metadata": {},
   "outputs": [
    {
     "name": "stdout",
     "output_type": "stream",
     "text": [
      "English\n",
      "Hindi\n",
      "Maths\n",
      "Chemistry\n",
      "Evs\n"
     ]
    }
   ],
   "source": [
    "for i in raju_dict:\n",
    "    print(i)"
   ]
  },
  {
   "cell_type": "code",
   "execution_count": 14,
   "metadata": {},
   "outputs": [
    {
     "name": "stdout",
     "output_type": "stream",
     "text": [
      "{'name': 'Amar Kumar', 'designation': 'Assistant III', 'salary': 32000}\n",
      "{'name': 'Ranu Singh', 'designation': 'Staff officer', 'salary': 89000}\n",
      "3\n",
      "Accounts\n",
      "['clerk', 'manager', 'assistant I']\n",
      " Acme inc.\n",
      "{'name': 'Ajay Sharma', 'designation': 'clerk', 'salary': 45000}\n"
     ]
    }
   ],
   "source": [
    "for i in company:\n",
    "    print(company[i])"
   ]
  },
  {
   "cell_type": "code",
   "execution_count": 15,
   "metadata": {},
   "outputs": [
    {
     "name": "stdout",
     "output_type": "stream",
     "text": [
      "emp001 {'name': 'Amar Kumar', 'designation': 'Assistant III', 'salary': 32000}\n",
      "emp002 {'name': 'Ranu Singh', 'designation': 'Staff officer', 'salary': 89000}\n",
      "total_emp 3\n",
      "department Accounts\n",
      "vacancy ['clerk', 'manager', 'assistant I']\n",
      "name  Acme inc.\n",
      "emp003 {'name': 'Ajay Sharma', 'designation': 'clerk', 'salary': 45000}\n"
     ]
    }
   ],
   "source": [
    "for k, v in company.items():\n",
    "    print(k, v)"
   ]
  },
  {
   "cell_type": "code",
   "execution_count": 16,
   "metadata": {},
   "outputs": [
    {
     "name": "stdout",
     "output_type": "stream",
     "text": [
      "emp001\n",
      "---> name Amar Kumar\n",
      "---> designation Assistant III\n",
      "---> salary 32000\n",
      "emp002\n",
      "---> name Ranu Singh\n",
      "---> designation Staff officer\n",
      "---> salary 89000\n",
      "total_emp 3\n",
      "department Accounts\n",
      "vacancy ['clerk', 'manager', 'assistant I']\n",
      "name  Acme inc.\n",
      "emp003\n",
      "---> name Ajay Sharma\n",
      "---> designation clerk\n",
      "---> salary 45000\n"
     ]
    }
   ],
   "source": [
    "for k, v in company.items():\n",
    "    if isinstance(v, dict):\n",
    "        print(k)\n",
    "        for key, value in v.items():\n",
    "            print(\"--->\",key , value)\n",
    "    else:\n",
    "        print(k,v)"
   ]
  },
  {
   "cell_type": "markdown",
   "metadata": {},
   "source": [
    "wap to create a dict which takes user input and stores the name of item and its price"
   ]
  },
  {
   "cell_type": "code",
   "execution_count": 4,
   "metadata": {},
   "outputs": [
    {
     "name": "stdout",
     "output_type": "stream",
     "text": [
      "{'Sugar': '45', 'Tea': '50', 'Milk': '23', 'Pulses': '110'}\n"
     ]
    }
   ],
   "source": [
    "grocary = {}\n",
    "noi =int(input('Enter no. of inputs: '))\n",
    "for i in range (noi):\n",
    "    product_name= input(\"Enter the Product Name: \")\n",
    "    product_price= input(\"Enter the price of the product: \")\n",
    "    grocary[product_name] = product_price\n",
    "print(grocary)"
   ]
  },
  {
   "cell_type": "code",
   "execution_count": null,
   "metadata": {},
   "outputs": [],
   "source": []
  }
 ],
 "metadata": {
  "kernelspec": {
   "display_name": "base",
   "language": "python",
   "name": "python3"
  },
  "language_info": {
   "codemirror_mode": {
    "name": "ipython",
    "version": 3
   },
   "file_extension": ".py",
   "mimetype": "text/x-python",
   "name": "python",
   "nbconvert_exporter": "python",
   "pygments_lexer": "ipython3",
   "version": "3.10.10"
  },
  "orig_nbformat": 4
 },
 "nbformat": 4,
 "nbformat_minor": 2
}
